{
 "cells": [
  {
   "cell_type": "markdown",
   "id": "612e0718",
   "metadata": {},
   "source": [
    "# importing dataset"
   ]
  },
  {
   "cell_type": "code",
   "execution_count": 2,
   "id": "d391dd28",
   "metadata": {},
   "outputs": [],
   "source": [
    "#importing the required libraries"
   ]
  },
  {
   "cell_type": "code",
   "execution_count": 3,
   "id": "17578cca",
   "metadata": {},
   "outputs": [],
   "source": [
    "import tensorflow as tf\n",
    "import numpy as np\n",
    "import matplotlib.pyplot as plt"
   ]
  },
  {
   "cell_type": "markdown",
   "id": "6236078b",
   "metadata": {},
   "source": [
    "# Data pre processing"
   ]
  },
  {
   "cell_type": "markdown",
   "id": "4cd5431a",
   "metadata": {},
   "source": [
    "# training image preprocessing"
   ]
  },
  {
   "cell_type": "code",
   "execution_count": 4,
   "id": "73c680d9",
   "metadata": {},
   "outputs": [
    {
     "name": "stdout",
     "output_type": "stream",
     "text": [
      "Found 3115 files belonging to 36 classes.\n"
     ]
    }
   ],
   "source": [
    "training_set=tf.keras.utils.image_dataset_from_directory(\n",
    "\"train\",labels='inferred',\n",
    "label_mode='categorical',\n",
    "class_names=None,\n",
    "color_mode='rgb',\n",
    "batch_size=32,\n",
    "image_size=(64,64),\n",
    "shuffle=True,\n",
    "seed=None,\n",
    "validation_split=None,\n",
    "subset=None,\n",
    "interpolation='bilinear',\n",
    "follow_links=False,\n",
    "crop_to_aspect_ratio=False)"
   ]
  },
  {
   "cell_type": "code",
   "execution_count": 5,
   "id": "c06c0224",
   "metadata": {},
   "outputs": [],
   "source": [
    "## Validation pre processing"
   ]
  },
  {
   "cell_type": "code",
   "execution_count": 6,
   "id": "6b48a9e5",
   "metadata": {},
   "outputs": [
    {
     "name": "stdout",
     "output_type": "stream",
     "text": [
      "Found 351 files belonging to 36 classes.\n"
     ]
    }
   ],
   "source": [
    "validation_set=tf.keras.utils.image_dataset_from_directory(\n",
    "\"validation\",labels='inferred',\n",
    "label_mode='categorical',\n",
    "class_names=None,\n",
    "color_mode='rgb',\n",
    "batch_size=32,\n",
    "image_size=(64,64),\n",
    "shuffle=True,\n",
    "seed=None,\n",
    "validation_split=None,\n",
    "subset=None,\n",
    "interpolation='bilinear',\n",
    "follow_links=False,\n",
    "crop_to_aspect_ratio=False)"
   ]
  },
  {
   "cell_type": "markdown",
   "id": "40d817af",
   "metadata": {},
   "source": [
    "# Building model"
   ]
  },
  {
   "cell_type": "code",
   "execution_count": 7,
   "id": "3062eed6",
   "metadata": {},
   "outputs": [],
   "source": [
    "cnn=tf.keras.models.Sequential()"
   ]
  },
  {
   "cell_type": "markdown",
   "id": "00246743",
   "metadata": {},
   "source": [
    "# # Building convolution layers"
   ]
  },
  {
   "cell_type": "code",
   "execution_count": 8,
   "id": "27c1fba4",
   "metadata": {},
   "outputs": [
    {
     "name": "stderr",
     "output_type": "stream",
     "text": [
      "C:\\Users\\DELL\\AppData\\Roaming\\Python\\Python311\\site-packages\\keras\\src\\layers\\convolutional\\base_conv.py:107: UserWarning: Do not pass an `input_shape`/`input_dim` argument to a layer. When using Sequential models, prefer using an `Input(shape)` object as the first layer in the model instead.\n",
      "  super().__init__(activity_regularizer=activity_regularizer, **kwargs)\n"
     ]
    }
   ],
   "source": [
    "cnn.add(tf.keras.layers.Conv2D(filters=64,kernel_size=3,activation='relu',input_shape=[64,64,3]))\n",
    "cnn.add(tf.keras.layers.MaxPool2D(pool_size=2,strides=2))"
   ]
  },
  {
   "cell_type": "code",
   "execution_count": 9,
   "id": "77869dfc",
   "metadata": {},
   "outputs": [],
   "source": [
    "cnn.add(tf.keras.layers.Conv2D(filters=64,kernel_size=3,activation='relu'))\n",
    "cnn.add(tf.keras.layers.MaxPool2D(pool_size=2,strides=2))"
   ]
  },
  {
   "cell_type": "code",
   "execution_count": 10,
   "id": "731c2e5d",
   "metadata": {},
   "outputs": [],
   "source": [
    "cnn.add(tf.keras.layers.Dropout(0.5))"
   ]
  },
  {
   "cell_type": "code",
   "execution_count": 11,
   "id": "853c1770",
   "metadata": {},
   "outputs": [],
   "source": [
    "cnn.add(tf.keras.layers.Flatten())"
   ]
  },
  {
   "cell_type": "code",
   "execution_count": 12,
   "id": "b738ca87",
   "metadata": {},
   "outputs": [],
   "source": [
    "cnn.add(tf.keras.layers.Dense(units=128,activation='relu'))"
   ]
  },
  {
   "cell_type": "code",
   "execution_count": 13,
   "id": "a5ebb066",
   "metadata": {},
   "outputs": [],
   "source": [
    "cnn.add(tf.keras.layers.Dense(units=36,activation='softmax'))"
   ]
  },
  {
   "cell_type": "code",
   "execution_count": 14,
   "id": "1f259591",
   "metadata": {},
   "outputs": [],
   "source": [
    "#compiling and training phase"
   ]
  },
  {
   "cell_type": "code",
   "execution_count": 15,
   "id": "d3bb9ea4",
   "metadata": {},
   "outputs": [],
   "source": [
    "cnn.compile(optimizer='rmsprop',loss='categorical_crossentropy',metrics=['accuracy'])"
   ]
  },
  {
   "cell_type": "code",
   "execution_count": 21,
   "id": "755522af",
   "metadata": {},
   "outputs": [
    {
     "name": "stdout",
     "output_type": "stream",
     "text": [
      "Epoch 1/30\n",
      "\u001b[1m98/98\u001b[0m \u001b[32m━━━━━━━━━━━━━━━━━━━━\u001b[0m\u001b[37m\u001b[0m \u001b[1m67s\u001b[0m 629ms/step - accuracy: 0.0291 - loss: 30.5803 - val_accuracy: 0.0798 - val_loss: 3.5575\n",
      "Epoch 2/30\n",
      "\u001b[1m98/98\u001b[0m \u001b[32m━━━━━━━━━━━━━━━━━━━━\u001b[0m\u001b[37m\u001b[0m \u001b[1m55s\u001b[0m 563ms/step - accuracy: 0.0427 - loss: 3.9929 - val_accuracy: 0.0427 - val_loss: 6.4763\n",
      "Epoch 3/30\n",
      "\u001b[1m98/98\u001b[0m \u001b[32m━━━━━━━━━━━━━━━━━━━━\u001b[0m\u001b[37m\u001b[0m \u001b[1m54s\u001b[0m 541ms/step - accuracy: 0.0660 - loss: 4.4219 - val_accuracy: 0.1311 - val_loss: 3.2373\n",
      "Epoch 4/30\n",
      "\u001b[1m98/98\u001b[0m \u001b[32m━━━━━━━━━━━━━━━━━━━━\u001b[0m\u001b[37m\u001b[0m \u001b[1m55s\u001b[0m 547ms/step - accuracy: 0.0950 - loss: 5.5545 - val_accuracy: 0.1681 - val_loss: 3.4751\n",
      "Epoch 5/30\n",
      "\u001b[1m98/98\u001b[0m \u001b[32m━━━━━━━━━━━━━━━━━━━━\u001b[0m\u001b[37m\u001b[0m \u001b[1m56s\u001b[0m 556ms/step - accuracy: 0.1517 - loss: 3.5964 - val_accuracy: 0.1681 - val_loss: 3.8902\n",
      "Epoch 6/30\n",
      "\u001b[1m98/98\u001b[0m \u001b[32m━━━━━━━━━━━━━━━━━━━━\u001b[0m\u001b[37m\u001b[0m \u001b[1m54s\u001b[0m 542ms/step - accuracy: 0.2153 - loss: 3.2656 - val_accuracy: 0.4644 - val_loss: 2.4347\n",
      "Epoch 7/30\n",
      "\u001b[1m98/98\u001b[0m \u001b[32m━━━━━━━━━━━━━━━━━━━━\u001b[0m\u001b[37m\u001b[0m \u001b[1m54s\u001b[0m 552ms/step - accuracy: 0.2522 - loss: 2.9800 - val_accuracy: 0.5499 - val_loss: 2.1011\n",
      "Epoch 8/30\n",
      "\u001b[1m98/98\u001b[0m \u001b[32m━━━━━━━━━━━━━━━━━━━━\u001b[0m\u001b[37m\u001b[0m \u001b[1m53s\u001b[0m 540ms/step - accuracy: 0.3299 - loss: 2.6410 - val_accuracy: 0.5299 - val_loss: 2.0797\n",
      "Epoch 9/30\n",
      "\u001b[1m98/98\u001b[0m \u001b[32m━━━━━━━━━━━━━━━━━━━━\u001b[0m\u001b[37m\u001b[0m \u001b[1m53s\u001b[0m 523ms/step - accuracy: 0.3578 - loss: 3.6058 - val_accuracy: 0.2877 - val_loss: 7.1327\n",
      "Epoch 10/30\n",
      "\u001b[1m98/98\u001b[0m \u001b[32m━━━━━━━━━━━━━━━━━━━━\u001b[0m\u001b[37m\u001b[0m \u001b[1m53s\u001b[0m 538ms/step - accuracy: 0.4191 - loss: 2.9376 - val_accuracy: 0.6182 - val_loss: 1.7884\n",
      "Epoch 11/30\n",
      "\u001b[1m98/98\u001b[0m \u001b[32m━━━━━━━━━━━━━━━━━━━━\u001b[0m\u001b[37m\u001b[0m \u001b[1m55s\u001b[0m 555ms/step - accuracy: 0.4660 - loss: 2.3220 - val_accuracy: 0.6752 - val_loss: 1.5357\n",
      "Epoch 12/30\n",
      "\u001b[1m98/98\u001b[0m \u001b[32m━━━━━━━━━━━━━━━━━━━━\u001b[0m\u001b[37m\u001b[0m \u001b[1m55s\u001b[0m 553ms/step - accuracy: 0.4857 - loss: 2.0755 - val_accuracy: 0.6239 - val_loss: 1.6567\n",
      "Epoch 13/30\n",
      "\u001b[1m98/98\u001b[0m \u001b[32m━━━━━━━━━━━━━━━━━━━━\u001b[0m\u001b[37m\u001b[0m \u001b[1m83s\u001b[0m 558ms/step - accuracy: 0.5170 - loss: 2.4637 - val_accuracy: 0.4986 - val_loss: 3.5308\n",
      "Epoch 14/30\n",
      "\u001b[1m98/98\u001b[0m \u001b[32m━━━━━━━━━━━━━━━━━━━━\u001b[0m\u001b[37m\u001b[0m \u001b[1m53s\u001b[0m 538ms/step - accuracy: 0.5535 - loss: 1.9466 - val_accuracy: 0.6724 - val_loss: 1.6823\n",
      "Epoch 15/30\n",
      "\u001b[1m98/98\u001b[0m \u001b[32m━━━━━━━━━━━━━━━━━━━━\u001b[0m\u001b[37m\u001b[0m \u001b[1m53s\u001b[0m 538ms/step - accuracy: 0.5825 - loss: 2.1242 - val_accuracy: 0.7521 - val_loss: 1.2534\n",
      "Epoch 16/30\n",
      "\u001b[1m98/98\u001b[0m \u001b[32m━━━━━━━━━━━━━━━━━━━━\u001b[0m\u001b[37m\u001b[0m \u001b[1m56s\u001b[0m 561ms/step - accuracy: 0.6236 - loss: 1.6262 - val_accuracy: 0.7635 - val_loss: 1.3546\n",
      "Epoch 17/30\n",
      "\u001b[1m98/98\u001b[0m \u001b[32m━━━━━━━━━━━━━━━━━━━━\u001b[0m\u001b[37m\u001b[0m \u001b[1m82s\u001b[0m 558ms/step - accuracy: 0.6767 - loss: 1.4594 - val_accuracy: 0.7379 - val_loss: 1.5678\n",
      "Epoch 18/30\n",
      "\u001b[1m98/98\u001b[0m \u001b[32m━━━━━━━━━━━━━━━━━━━━\u001b[0m\u001b[37m\u001b[0m \u001b[1m83s\u001b[0m 553ms/step - accuracy: 0.6673 - loss: 1.9381 - val_accuracy: 0.8490 - val_loss: 0.8918\n",
      "Epoch 19/30\n",
      "\u001b[1m98/98\u001b[0m \u001b[32m━━━━━━━━━━━━━━━━━━━━\u001b[0m\u001b[37m\u001b[0m \u001b[1m55s\u001b[0m 555ms/step - accuracy: 0.7000 - loss: 1.4525 - val_accuracy: 0.6895 - val_loss: 1.9756\n",
      "Epoch 20/30\n",
      "\u001b[1m98/98\u001b[0m \u001b[32m━━━━━━━━━━━━━━━━━━━━\u001b[0m\u001b[37m\u001b[0m \u001b[1m56s\u001b[0m 567ms/step - accuracy: 0.7263 - loss: 1.4805 - val_accuracy: 0.7379 - val_loss: 1.5683\n",
      "Epoch 21/30\n",
      "\u001b[1m98/98\u001b[0m \u001b[32m━━━━━━━━━━━━━━━━━━━━\u001b[0m\u001b[37m\u001b[0m \u001b[1m85s\u001b[0m 593ms/step - accuracy: 0.7110 - loss: 1.6516 - val_accuracy: 0.8234 - val_loss: 0.9932\n",
      "Epoch 22/30\n",
      "\u001b[1m98/98\u001b[0m \u001b[32m━━━━━━━━━━━━━━━━━━━━\u001b[0m\u001b[37m\u001b[0m \u001b[1m54s\u001b[0m 540ms/step - accuracy: 0.7451 - loss: 1.3487 - val_accuracy: 0.7407 - val_loss: 2.0859\n",
      "Epoch 23/30\n",
      "\u001b[1m98/98\u001b[0m \u001b[32m━━━━━━━━━━━━━━━━━━━━\u001b[0m\u001b[37m\u001b[0m \u001b[1m52s\u001b[0m 531ms/step - accuracy: 0.7578 - loss: 1.3894 - val_accuracy: 0.9003 - val_loss: 0.8238\n",
      "Epoch 24/30\n",
      "\u001b[1m98/98\u001b[0m \u001b[32m━━━━━━━━━━━━━━━━━━━━\u001b[0m\u001b[37m\u001b[0m \u001b[1m54s\u001b[0m 544ms/step - accuracy: 0.7732 - loss: 1.3299 - val_accuracy: 0.8746 - val_loss: 1.2785\n",
      "Epoch 25/30\n",
      "\u001b[1m98/98\u001b[0m \u001b[32m━━━━━━━━━━━━━━━━━━━━\u001b[0m\u001b[37m\u001b[0m \u001b[1m53s\u001b[0m 528ms/step - accuracy: 0.7918 - loss: 1.0623 - val_accuracy: 0.8860 - val_loss: 1.1065\n",
      "Epoch 26/30\n",
      "\u001b[1m98/98\u001b[0m \u001b[32m━━━━━━━━━━━━━━━━━━━━\u001b[0m\u001b[37m\u001b[0m \u001b[1m55s\u001b[0m 556ms/step - accuracy: 0.7945 - loss: 1.0597 - val_accuracy: 0.8718 - val_loss: 1.2491\n",
      "Epoch 27/30\n",
      "\u001b[1m98/98\u001b[0m \u001b[32m━━━━━━━━━━━━━━━━━━━━\u001b[0m\u001b[37m\u001b[0m \u001b[1m52s\u001b[0m 527ms/step - accuracy: 0.8013 - loss: 1.0443 - val_accuracy: 0.8974 - val_loss: 1.1958\n",
      "Epoch 28/30\n",
      "\u001b[1m98/98\u001b[0m \u001b[32m━━━━━━━━━━━━━━━━━━━━\u001b[0m\u001b[37m\u001b[0m \u001b[1m53s\u001b[0m 535ms/step - accuracy: 0.8102 - loss: 1.3638 - val_accuracy: 0.9288 - val_loss: 1.2553\n",
      "Epoch 29/30\n",
      "\u001b[1m98/98\u001b[0m \u001b[32m━━━━━━━━━━━━━━━━━━━━\u001b[0m\u001b[37m\u001b[0m \u001b[1m56s\u001b[0m 569ms/step - accuracy: 0.8425 - loss: 0.8845 - val_accuracy: 0.9117 - val_loss: 0.9759\n",
      "Epoch 30/30\n",
      "\u001b[1m98/98\u001b[0m \u001b[32m━━━━━━━━━━━━━━━━━━━━\u001b[0m\u001b[37m\u001b[0m \u001b[1m57s\u001b[0m 578ms/step - accuracy: 0.8246 - loss: 0.8997 - val_accuracy: 0.8689 - val_loss: 1.3503\n"
     ]
    }
   ],
   "source": [
    "training_history=cnn.fit(x=training_set,validation_data=validation_set,epochs=30)"
   ]
  },
  {
   "cell_type": "markdown",
   "id": "dd0b2497",
   "metadata": {},
   "source": [
    "## saving model"
   ]
  },
  {
   "cell_type": "code",
   "execution_count": 28,
   "id": "5b5e14a1",
   "metadata": {},
   "outputs": [
    {
     "name": "stderr",
     "output_type": "stream",
     "text": [
      "WARNING:absl:You are saving your model as an HDF5 file via `model.save()` or `keras.saving.save_model(model)`. This file format is considered legacy. We recommend using instead the native Keras format, e.g. `model.save('my_model.keras')` or `keras.saving.save_model(model, 'my_model.keras')`. \n"
     ]
    }
   ],
   "source": [
    "cnn.save('trained_model.h5')"
   ]
  },
  {
   "cell_type": "code",
   "execution_count": 29,
   "id": "75095077",
   "metadata": {},
   "outputs": [],
   "source": [
    "#recording history"
   ]
  },
  {
   "cell_type": "code",
   "execution_count": 30,
   "id": "1c52178d",
   "metadata": {},
   "outputs": [],
   "source": [
    "import json\n",
    "with open('training_hist.json','w') as f:\n",
    "    json.dump(training_history.history,f)"
   ]
  },
  {
   "cell_type": "code",
   "execution_count": 31,
   "id": "ed453961",
   "metadata": {},
   "outputs": [
    {
     "name": "stdout",
     "output_type": "stream",
     "text": [
      "dict_keys(['accuracy', 'loss', 'val_accuracy', 'val_loss'])\n"
     ]
    }
   ],
   "source": [
    "print(training_history.history.keys())"
   ]
  },
  {
   "cell_type": "markdown",
   "id": "95955498",
   "metadata": {},
   "source": [
    "##calculating accuracy of model activation validation set"
   ]
  },
  {
   "cell_type": "code",
   "execution_count": 32,
   "id": "4b4be52a",
   "metadata": {},
   "outputs": [
    {
     "data": {
      "text/plain": [
       "0.8689458966255188"
      ]
     },
     "execution_count": 32,
     "metadata": {},
     "output_type": "execute_result"
    }
   ],
   "source": [
    "training_history.history['val_accuracy'][-1]"
   ]
  },
  {
   "cell_type": "code",
   "execution_count": 33,
   "id": "11fd715f",
   "metadata": {},
   "outputs": [
    {
     "name": "stdout",
     "output_type": "stream",
     "text": [
      "validation set accuracy: 86.89458966255188%\n"
     ]
    }
   ],
   "source": [
    "print(\"validation set accuracy: {}%\".format(training_history.history['val_accuracy'][-1]*100))"
   ]
  },
  {
   "cell_type": "markdown",
   "id": "f31635aa",
   "metadata": {},
   "source": [
    "# accuracy visualization"
   ]
  },
  {
   "cell_type": "markdown",
   "id": "747fbf75",
   "metadata": {},
   "source": [
    "# #Training visualization"
   ]
  },
  {
   "cell_type": "code",
   "execution_count": 34,
   "id": "4e7ce818",
   "metadata": {},
   "outputs": [
    {
     "data": {
      "image/png": "[encoded data removed]",
      "text/plain": [
       "<Figure size 640x480 with 1 Axes>"
      ]
     },
     "metadata": {},
     "output_type": "display_data"
    }
   ],
   "source": [
    "epochs=[i for i in range(1,31)]\n",
    "plt.plot(epochs,training_history.history['accuracy'],color='red')\n",
    "plt.xlabel('epochs')\n",
    "plt.ylabel('Training Acurracy')\n",
    "plt.title('visualization of training accuracy result')\n",
    "plt.show()"
   ]
  },
  {
   "cell_type": "markdown",
   "id": "d6487fd6",
   "metadata": {},
   "source": [
    "##Validation Accuracy"
   ]
  },
  {
   "cell_type": "code",
   "execution_count": 35,
   "id": "583722f3",
   "metadata": {},
   "outputs": [
    {
     "data": {
      "image/png": "[encoded data removed]",
      "text/plain": [
       "<Figure size 640x480 with 1 Axes>"
      ]
     },
     "metadata": {},
     "output_type": "display_data"
    }
   ],
   "source": [
    "plt.plot(epochs,training_history.history['val_accuracy'],color='blue')\n",
    "plt.xlabel('no of epochs')\n",
    "plt.ylabel('validation Accuracy')\n",
    "plt.title('visualization of validation accuracy result')\n",
    "plt.show()"
   ]
  },
  {
   "cell_type": "code",
   "execution_count": null,
   "id": "b2f9ed8c",
   "metadata": {},
   "outputs": [],
   "source": []
  },
  {
   "cell_type": "code",
   "execution_count": null,
   "id": "e487e424",
   "metadata": {},
   "outputs": [],
   "source": []
  }
 ],
 "metadata": {
  "kernelspec": {
   "display_name": "Python 3 (ipykernel)",
   "language": "python",
   "name": "python3"
  },
  "language_info": {
   "codemirror_mode": {
    "name": "ipython",
    "version": 3
   },
   "file_extension": ".py",
   "mimetype": "text/x-python",
   "name": "python",
   "nbconvert_exporter": "python",
   "pygments_lexer": "ipython3",
   "version": "3.11.5"
  }
 },
 "nbformat": 4,
 "nbformat_minor": 5
}
